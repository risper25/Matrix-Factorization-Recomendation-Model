{
  "nbformat": 4,
  "nbformat_minor": 0,
  "metadata": {
    "colab": {
      "provenance": [],
      "collapsed_sections": []
    },
    "kernelspec": {
      "name": "python3",
      "display_name": "Python 3"
    },
    "language_info": {
      "name": "python"
    }
  },
  "cells": [
    {
      "cell_type": "code",
      "execution_count": 5,
      "metadata": {
        "id": "TP-cUeAGyneG"
      },
      "outputs": [],
      "source": [
        "import numpy as np"
      ]
    },
    {
      "cell_type": "code",
      "source": [
        "class matrix_model:\n",
        "    def __init__(self,R,p,q,features):\n",
        "        self.p=np.random.rand(p,features)\n",
        "        self.q=np.random.rand(q,features)\n",
        "        self.R=R\n",
        "        self.features=features\n",
        "\n",
        "    def error(self,P,Q,beta):\n",
        "        e=0\n",
        "        for i in range(len(self.R)):\n",
        "            for j in range(len(self.R[i])):\n",
        "                if self.R[i][j]>0:\n",
        "                    #loss (y-y_hat)^2\n",
        "                    e+=pow(self.R[i,j]-np.dot(P[i,:],Q[:,j]),2)\n",
        "                    \n",
        "                    #regularize\n",
        "                    for k in range(self.features):\n",
        "                        e+=(beta/2)*(pow(P[i][k],2)+pow(Q[k][j],2))\n",
        "\n",
        "        return e \n",
        "    def predict(self):\n",
        "        return np.dot(self.p,self.q.T)    \n",
        "    def matrix_factorization(self,lr=0.002,beta=0.02,steps=5000):\n",
        "        P=self.p\n",
        "        Q=self.q\n",
        "        Q=Q.T\n",
        "        for step in range(steps):\n",
        "            for i in range(len(self.R)):\n",
        "                for j in range(len(self.R[i])):\n",
        "                    if self.R[i][j]>0:\n",
        "                        #loss (y-y_hat)^2\n",
        "                        e_ij=self.R[i][j]-np.dot(P[i,:],Q[:,j])\n",
        "\n",
        "                        #calculategradient and update\n",
        "                        for k in range(self.features):\n",
        "                           \n",
        "                            P[i][k]=P[i][k] + lr * (2 * e_ij * Q[k,j] - beta * P[i][k])\n",
        "                            Q[k][j]=Q[k][j]+ lr*(2 * e_ij * P[i][k] - beta * Q[k][j])\n",
        "                            \n",
        "\n",
        "\n",
        "        \n",
        "            #calculate error after updating gradients\n",
        "            e=self.error(P,Q,beta)\n",
        "            if e<0.001:\n",
        "                break\n",
        "            \n",
        "        return e\n"
      ],
      "metadata": {
        "id": "PNXvt99DK-ix"
      },
      "execution_count": 13,
      "outputs": []
    },
    {
      "cell_type": "code",
      "source": [
        "\n",
        "R = [\n",
        "\n",
        "     [7,3,0,1],\n",
        "\n",
        "     [2,0,2,3],\n",
        "     [1,1,0,5],\n",
        "\n",
        "     [5,3,0,1],\n",
        "\n",
        "     [0,1,5,4],\n",
        "    \n",
        "     [2,1,3,0]\n",
        "\n",
        "    ]\n",
        "R=np.array(R)\n",
        "\n",
        "mf=matrix_model(R,len(R),len(R[0]),3)\n",
        "mf.matrix_factorization()\n",
        "mf.predict()"
      ],
      "metadata": {
        "colab": {
          "base_uri": "https://localhost:8080/"
        },
        "id": "Y5GRlxm5KfFX",
        "outputId": "d2f3a6ae-119e-4cf3-88f6-1792860182d6"
      },
      "execution_count": 14,
      "outputs": [
        {
          "output_type": "execute_result",
          "data": {
            "text/plain": [
              "array([[6.96092556, 3.00882168, 4.50092105, 1.00286808],\n",
              "       [1.98455757, 1.54328407, 2.01582912, 2.97645339],\n",
              "       [0.99946682, 1.00143237, 2.87953045, 4.97019803],\n",
              "       [4.99333758, 2.96099928, 2.28978337, 1.00428702],\n",
              "       [3.34757027, 1.00622517, 4.97726765, 3.98956655],\n",
              "       [2.01098534, 0.98317004, 2.97855342, 3.21932009]])"
            ]
          },
          "metadata": {},
          "execution_count": 14
        }
      ]
    }
  ]
}